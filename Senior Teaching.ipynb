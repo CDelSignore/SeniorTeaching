{
 "cells": [
  {
   "cell_type": "code",
   "execution_count": 20,
   "metadata": {
    "collapsed": true,
    "hideCode": true,
    "hidePrompt": true
   },
   "outputs": [],
   "source": [
    "from IPython.display import display, HTML"
   ]
  },
  {
   "cell_type": "code",
   "execution_count": 21,
   "metadata": {
    "collapsed": false,
    "hideCode": false,
    "hideOutput": true,
    "hidePrompt": true
   },
   "outputs": [],
   "source": [
    "#!pip install hide_code"
   ]
  },
  {
   "cell_type": "code",
   "execution_count": 22,
   "metadata": {
    "collapsed": false,
    "hideCode": true,
    "hidePrompt": true
   },
   "outputs": [
    {
     "data": {
      "text/html": [
       "<p style=\"font-size:400%; text-align:center; line-height:70px; color:darkorange\">Exploring the Jupyter Notebook</p>"
      ],
      "text/plain": [
       "<IPython.core.display.HTML object>"
      ]
     },
     "metadata": {},
     "output_type": "display_data"
    },
    {
     "name": "stdout",
     "output_type": "stream",
     "text": [
      "Today in class we will be using Jupyter (formerly iPython) to create stylish interactive Python notebooks that can be embedded \n",
      "into websites or used without installing Python on a system. We will begin with the basics of Jupyter and then we will attempt \n",
      "to use some of the common Python modules in this environment to get a feel for how it differs from Spyder. Hopefully something \n",
      "you learn today will inspire you to take a closer look at Jupyter in the future!\n"
     ]
    },
    {
     "data": {
      "text/html": [
       "<img src=\"http://blog.jupyter.org/content/images/2015/02/jupyter-sq-text.png\" style=\"height:200px;width:200px;margin:auto\">"
      ],
      "text/plain": [
       "<IPython.core.display.HTML object>"
      ]
     },
     "metadata": {},
     "output_type": "display_data"
    }
   ],
   "source": [
    "display(HTML('<p style=\"font-size:400%; text-align:center; line-height:70px; color:darkorange\">Exploring the Jupyter Notebook</p>'))\n",
    "print(\"Today in class we will be using Jupyter (formerly iPython) to create stylish interactive Python notebooks that can be embedded \\ninto websites or used without installing Python on a system. We will begin with the basics of Jupyter and then we will attempt \\nto use some of the common Python modules in this environment to get a feel for how it differs from Spyder. Hopefully something \\nyou learn today will inspire you to take a closer look at Jupyter in the future!\")\n",
    "display(HTML('<img src=\"http://blog.jupyter.org/content/images/2015/02/jupyter-sq-text.png\" style=\"height:200px;width:200px;margin:auto\">'))"
   ]
  },
  {
   "cell_type": "code",
   "execution_count": 23,
   "metadata": {
    "collapsed": false,
    "hideCode": true,
    "hidePrompt": true
   },
   "outputs": [
    {
     "data": {
      "text/html": [
       "<p style=\"font-size:400%; text-align:center; line-height:70px; color:darkorange\">What is Jupyter?</p>"
      ],
      "text/plain": [
       "<IPython.core.display.HTML object>"
      ]
     },
     "metadata": {},
     "output_type": "display_data"
    },
    {
     "name": "stdout",
     "output_type": "stream",
     "text": [
      "Good question. Jupyter is visual coding environment that uses 'code-blocks' instead of conventional code structuring. As you \n",
      "will soon discover, not only is code written line-by-line in Jupyter, but it is also clustered into blocks that can be run \n",
      "separately. It is also able to run different langauges: even within the same program. All these colorful titles you see are \n",
      "actually coded in HTML, while this text is using the Python print() function. Today we will focus mainly on Python, but feel \n",
      "free to ask about the use of other languages if interested!\n"
     ]
    }
   ],
   "source": [
    "display(HTML('<p style=\"font-size:400%; text-align:center; line-height:70px; color:darkorange\">What is Jupyter?</p>'))\n",
    "print(\"Good question. Jupyter is visual coding environment that uses 'code-blocks' instead of conventional code structuring. As you \\nwill soon discover, not only is code written line-by-line in Jupyter, but it is also clustered into blocks that can be run \\nseparately. It is also able to run different langauges: even within the same program. All these colorful titles you see are \\nactually coded in HTML, while this text is using the Python print() function. Today we will focus mainly on Python, but feel \\nfree to ask about the use of other languages if interested!\")"
   ]
  },
  {
   "cell_type": "code",
   "execution_count": 24,
   "metadata": {
    "collapsed": false,
    "hideCode": true,
    "hidePrompt": true
   },
   "outputs": [
    {
     "data": {
      "text/html": [
       "<p style=\"font-size:400%; text-align:center; line-height:70px; color:darkorange\">Getting Started</p>"
      ],
      "text/plain": [
       "<IPython.core.display.HTML object>"
      ]
     },
     "metadata": {},
     "output_type": "display_data"
    },
    {
     "name": "stdout",
     "output_type": "stream",
     "text": [
      "Below you will see a Jupyter input cell. All outputs are created based on the code within input cells. I have cleverly hidden \n",
      "the input cells for these instructional sections, but I assure you they are there. You can write as many lines of code in this \n",
      "input cell as you'd like: an entire program if you want (although this would defeat the point of having cells). Fill in the \n",
      "below print() statement with anything you'd like and press SHIFT and ENTER together\n"
     ]
    }
   ],
   "source": [
    "display(HTML('<p style=\"font-size:400%; text-align:center; line-height:70px; color:darkorange\">Getting Started</p>'))\n",
    "print(\"Below you will see a Jupyter input cell. All outputs are created based on the code within input cells. I have cleverly hidden \\nthe input cells for these instructional sections, but I assure you they are there. You can write as many lines of code in this \\ninput cell as you'd like: an entire program if you want (although this would defeat the point of having cells). Fill in the \\nbelow print() statement with anything you'd like and press SHIFT and ENTER together\")"
   ]
  },
  {
   "cell_type": "code",
   "execution_count": 25,
   "metadata": {
    "collapsed": false,
    "hideCode": false,
    "hidePrompt": true
   },
   "outputs": [
    {
     "name": "stdout",
     "output_type": "stream",
     "text": [
      "\n"
     ]
    }
   ],
   "source": [
    "print(\"\")"
   ]
  },
  {
   "cell_type": "code",
   "execution_count": 26,
   "metadata": {
    "collapsed": false,
    "hideCode": true,
    "hidePrompt": true
   },
   "outputs": [
    {
     "data": {
      "text/html": [
       "<p style=\"font-size:400%; text-align:center; line-height:70px; color:darkorange\">Achievement Unlocked: Do Something</p>"
      ],
      "text/plain": [
       "<IPython.core.display.HTML object>"
      ]
     },
     "metadata": {},
     "output_type": "display_data"
    },
    {
     "name": "stdout",
     "output_type": "stream",
     "text": [
      "Congratulations! You have run your first line of code in Jupyter. Cells can be run one at a time or all at once from the Cell \n",
      "section of the toolbar. I find that it is easier to just use SHIFT and ENTER when running a single cell, though. These cells \n",
      "can be run in any order you like, although when running all at once they will go in order. Go back and change your print \n",
      "statement above to something else and press SHIFT and ENTER again. You should find that the output is updated to match the new \n",
      "input. All outputs will display the result of the last input even if you delete the code, but outputs can be cleared with \n",
      "Cell > All Outputs > Clear. Don't do that now or this entire notebook will be cleared, forcing you to rerun the whole thing to \n",
      "move on. Note that running a cell will NOT cause the entire program to run, only code contained within that cell.\n"
     ]
    }
   ],
   "source": [
    "display(HTML('<p style=\"font-size:400%; text-align:center; line-height:70px; color:darkorange\">Achievement Unlocked: Do Something</p>'))\n",
    "print(\"Congratulations! You have run your first line of code in Jupyter. Cells can be run one at a time or all at once from the Cell \\nsection of the toolbar. I find that it is easier to just use SHIFT and ENTER when running a single cell, though. These cells \\ncan be run in any order you like, although when running all at once they will go in order. Go back and change your print \\nstatement above to something else and press SHIFT and ENTER again. You should find that the output is updated to match the new \\ninput. All outputs will display the result of the last input even if you delete the code, but outputs can be cleared with \\nCell > All Outputs > Clear. Don't do that now or this entire notebook will be cleared, forcing you to rerun the whole thing to \\nmove on. Note that running a cell will NOT cause the entire program to run, only code contained within that cell.\")"
   ]
  },
  {
   "cell_type": "code",
   "execution_count": 27,
   "metadata": {
    "collapsed": false,
    "hideCode": true,
    "hidePrompt": true
   },
   "outputs": [
    {
     "data": {
      "text/html": [
       "<p style=\"font-size:400%; text-align:center; line-height:70px; color:darkorange\">Level 2</p>"
      ],
      "text/plain": [
       "<IPython.core.display.HTML object>"
      ]
     },
     "metadata": {},
     "output_type": "display_data"
    },
    {
     "name": "stdout",
     "output_type": "stream",
     "text": [
      "As useful as they are, print statements are boring. Let's import something fun to play with. Type the following in the cell \n",
      "below and press SHIFT and ENTER. This will import a module that is often used in place of the langauge matlab for graphing. Now we can play around with graphics in Jupyter. If you are wondering, the second line of code makes the graph display in the \n",
      "notebook instead of as a pop-up window:\n"
     ]
    },
    {
     "data": {
      "text/html": [
       "<p style=\"text-align:center\"><font style=\"color:green\">import</font><font> matplotlib.pyplot</font><font style=\"color:green\"> as</font><font> plt</font><br><font style=\"color:darkviolet\">%</font><font>matplotlib inline &nbsp &nbsp &nbsp &nbsp &nbsp &nbsp &nbsp &nbsp &nbsp</font></p>"
      ],
      "text/plain": [
       "<IPython.core.display.HTML object>"
      ]
     },
     "metadata": {},
     "output_type": "display_data"
    }
   ],
   "source": [
    "display(HTML('<p style=\"font-size:400%; text-align:center; line-height:70px; color:darkorange\">Level 2</p>'))\n",
    "print(\"As useful as they are, print statements are boring. Let's import something fun to play with. Type the following in the cell \\nbelow and press SHIFT and ENTER. This will import a module that is often used in place of the langauge matlab for graphing. Now we can play around with graphics in Jupyter. If you are wondering, the second line of code makes the graph display in the \\nnotebook instead of as a pop-up window:\")\n",
    "display(HTML('<p style=\"text-align:center\"><font style=\"color:green\">import</font><font> matplotlib.pyplot</font><font style=\"color:green\"> as</font><font> plt</font><br><font style=\"color:darkviolet\">%</font><font>matplotlib inline &nbsp &nbsp &nbsp &nbsp &nbsp &nbsp &nbsp &nbsp &nbsp</font></p>'))"
   ]
  },
  {
   "cell_type": "code",
   "execution_count": null,
   "metadata": {
    "collapsed": true,
    "hidePrompt": true
   },
   "outputs": [],
   "source": []
  },
  {
   "cell_type": "code",
   "execution_count": 28,
   "metadata": {
    "collapsed": false,
    "hideCode": true,
    "hidePrompt": true
   },
   "outputs": [
    {
     "name": "stdout",
     "output_type": "stream",
     "text": [
      "In order to make a graph, we are going to need some data. We could import another module, but I think it'd be best to fill out \n",
      "some data ourselves. In the cell below you will find two lists: one with the numbers 1-5, and an empty one. Fill in 5 data \n",
      "points into the second list (separated by commas) and run the cell.\n"
     ]
    }
   ],
   "source": [
    "print(\"In order to make a graph, we are going to need some data. We could import another module, but I think it'd be best to fill out \\nsome data ourselves. In the cell below you will find two lists: one with the numbers 1-5, and an empty one. Fill in 5 data \\npoints into the second list (separated by commas) and run the cell.\")"
   ]
  },
  {
   "cell_type": "code",
   "execution_count": 29,
   "metadata": {
    "collapsed": true
   },
   "outputs": [],
   "source": [
    "x_data = [1,2,3,4,5]\n",
    "y_data = []"
   ]
  },
  {
   "cell_type": "code",
   "execution_count": 30,
   "metadata": {
    "collapsed": false,
    "hideCode": true,
    "hidePrompt": true
   },
   "outputs": [
    {
     "name": "stdout",
     "output_type": "stream",
     "text": [
      "Now we are going to do some work with the module. When using a module in Python, remember to reference the module (in this case we imported it under the name plt) and the function separated by a period. For example, to plot the graph, type:\n"
     ]
    },
    {
     "data": {
      "text/html": [
       "<p style=\"text-align:center\">myGraph = plt.plot(x_data,y_data)</p>"
      ],
      "text/plain": [
       "<IPython.core.display.HTML object>"
      ]
     },
     "metadata": {},
     "output_type": "display_data"
    },
    {
     "name": "stdout",
     "output_type": "stream",
     "text": [
      "If you run this you should get a graph of the data you input into the cell above. Python will try to pick the correct size and \n",
      "scale for you automatically, but it isn't always right. Fortunately we can update our graph by adding some lines of code.\n"
     ]
    }
   ],
   "source": [
    "print(\"Now we are going to do some work with the module. When using a module in Python, remember to reference the module (in this case we imported it under the name plt) and the function separated by a period. For example, to plot the graph, type:\") \n",
    "display(HTML('<p style=\"text-align:center\">myGraph = plt.plot(x_data,y_data)</p>'))\n",
    "print(\"If you run this you should get a graph of the data you input into the cell above. Python will try to pick the correct size and \\nscale for you automatically, but it isn't always right. Fortunately we can update our graph by adding some lines of code.\")"
   ]
  },
  {
   "cell_type": "code",
   "execution_count": null,
   "metadata": {
    "collapsed": false,
    "hidePrompt": true
   },
   "outputs": [],
   "source": []
  },
  {
   "cell_type": "code",
   "execution_count": 31,
   "metadata": {
    "collapsed": false,
    "hideCode": true,
    "hidePrompt": true
   },
   "outputs": [
    {
     "name": "stdout",
     "output_type": "stream",
     "text": [
      "Let's start by making things a bit easier to work with. Right now, myGraph is simply a 2D line. What if we want myGraph to \n",
      "actually stand for the graph itself? To do that we need to make it a figure. Go back and move plt.plot(x_data,y_data) to its \n",
      "own line and set myGraph equal to plt.figure(figsize=(7,4)), then run it. It should look like this: \n"
     ]
    },
    {
     "data": {
      "text/html": [
       "<p style=\"text-align:center\">myGraph = plt.figure(figsize=(7,4))<br>plt.plot(x_data,y_data)&nbsp &nbsp &nbsp &nbsp &nbsp &nbsp &nbsp &nbsp &nbsp &nbsp</p>"
      ],
      "text/plain": [
       "<IPython.core.display.HTML object>"
      ]
     },
     "metadata": {},
     "output_type": "display_data"
    },
    {
     "name": "stdout",
     "output_type": "stream",
     "text": [
      "Now Python knows that myGraph is a graph of the size 7x4, containing the 2D line that we had before. Any time we begin a \n",
      "function with plt in that cell, it will modify myGraph. Type myGraph into the cell below and run it just to make sure.\n"
     ]
    }
   ],
   "source": [
    "print(\"Let's start by making things a bit easier to work with. Right now, myGraph is simply a 2D line. What if we want myGraph to \\nactually stand for the graph itself? To do that we need to make it a figure. Go back and move plt.plot(x_data,y_data) to its \\nown line and set myGraph equal to plt.figure(figsize=(7,4)), then run it. It should look like this: \")\n",
    "display(HTML('<p style=\"text-align:center\">myGraph = plt.figure(figsize=(7,4))<br>plt.plot(x_data,y_data)&nbsp &nbsp &nbsp &nbsp &nbsp &nbsp &nbsp &nbsp &nbsp &nbsp</p>'))\n",
    "print(\"Now Python knows that myGraph is a graph of the size 7x4, containing the 2D line that we had before. Any time we begin a \\nfunction with plt in that cell, it will modify myGraph. Type myGraph into the cell below and run it just to make sure.\")"
   ]
  },
  {
   "cell_type": "code",
   "execution_count": null,
   "metadata": {
    "collapsed": false,
    "hidePrompt": true
   },
   "outputs": [],
   "source": []
  },
  {
   "cell_type": "code",
   "execution_count": 32,
   "metadata": {
    "collapsed": false,
    "hideCode": true,
    "hidePrompt": true
   },
   "outputs": [
    {
     "name": "stdout",
     "output_type": "stream",
     "text": [
      "Hopefully this is working for you. We now have a figure of a specified size with the data we input earlier, but the graph is \n",
      "hard to understand: we need to add some formatting. Here are some commands that you might want to use in your graph (these must be put in the same cell as the myGraph = code):\n"
     ]
    },
    {
     "data": {
      "text/html": [
       "<p style=\"text-align:center\"><font>plt.ylabel(\"Y-Axis Label\")</font><br><font>plt.xlabel(\"X-Axis Label\")</font><br><font>plt.title(\"Title\")</font></p>"
      ],
      "text/plain": [
       "<IPython.core.display.HTML object>"
      ]
     },
     "metadata": {},
     "output_type": "display_data"
    },
    {
     "name": "stdout",
     "output_type": "stream",
     "text": [
      "You can also change the appearance of the plot with arguments to the plt.plot(x_data,y_data) function like this:\n"
     ]
    },
    {
     "data": {
      "text/html": [
       "<p style=\"text-align:center\"><font>plt.plot(x_data,y_data,color=\"r\")</font><br><font>plt.plot(x_data,y_data,linewidth=2)</font><br><font>plt.plot(x_data,y_data,color=\"r\",linewidth=2)</font></p>"
      ],
      "text/plain": [
       "<IPython.core.display.HTML object>"
      ]
     },
     "metadata": {},
     "output_type": "display_data"
    },
    {
     "name": "stdout",
     "output_type": "stream",
     "text": [
      "Now to test if everything is working alright, go back to the cell above where you tested myGraph and run it again. You should \n",
      "see the new graph with all the changes.\n"
     ]
    }
   ],
   "source": [
    "print(\"Hopefully this is working for you. We now have a figure of a specified size with the data we input earlier, but the graph is \\nhard to understand: we need to add some formatting. Here are some commands that you might want to use in your graph (these must be put in the same cell as the myGraph = code):\")\n",
    "display(HTML('<p style=\"text-align:center\"><font>plt.ylabel(\"Y-Axis Label\")</font><br><font>plt.xlabel(\"X-Axis Label\")</font><br><font>plt.title(\"Title\")</font></p>'))\n",
    "print(\"You can also change the appearance of the plot with arguments to the plt.plot(x_data,y_data) function like this:\")\n",
    "display(HTML('<p style=\"text-align:center\"><font>plt.plot(x_data,y_data,color=\"r\")</font><br><font>plt.plot(x_data,y_data,linewidth=2)</font><br><font>plt.plot(x_data,y_data,color=\"r\",linewidth=2)</font></p>'))\n",
    "print(\"Now to test if everything is working alright, go back to the cell above where you tested myGraph and run it again. You should \\nsee the new graph with all the changes.\")"
   ]
  },
  {
   "cell_type": "code",
   "execution_count": 33,
   "metadata": {
    "collapsed": false,
    "hideCode": true,
    "hidePrompt": true
   },
   "outputs": [
    {
     "data": {
      "text/html": [
       "<p style=\"font-size:400%; text-align:center; line-height:70px; color:darkorange\">Level 3</p>"
      ],
      "text/plain": [
       "<IPython.core.display.HTML object>"
      ]
     },
     "metadata": {},
     "output_type": "display_data"
    },
    {
     "name": "stdout",
     "output_type": "stream",
     "text": [
      "Now we have some experience getting matplotlib graphs into Jupyter and formatting them to look nice, but wouldn't it be cool to make them dynamic? As you have likely guessed, this is indeed possible, but we will need the help of two more modules. Run \n",
      "this:\n"
     ]
    },
    {
     "data": {
      "text/html": [
       "<p style=\"text-align:center\"><font style=\"color:green\">import</font><font> ipywidgets</font><font style=\"color:green\"> as</font><font> widgets</font><br><font style=\"color:green\">import</font><font> numpy</font><font style=\"color:green\"> as</font><font> np &nbsp &nbsp &nbsp &nbsp &nbsp &nbsp &nbsp </font></p>"
      ],
      "text/plain": [
       "<IPython.core.display.HTML object>"
      ]
     },
     "metadata": {},
     "output_type": "display_data"
    }
   ],
   "source": [
    "display(HTML('<p style=\"font-size:400%; text-align:center; line-height:70px; color:darkorange\">Level 3</p>'))\n",
    "print(\"Now we have some experience getting matplotlib graphs into Jupyter and formatting them to look nice, but wouldn't it be cool to make them dynamic? As you have likely guessed, this is indeed possible, but we will need the help of two more modules. Run \\nthis:\")\n",
    "display(HTML('<p style=\"text-align:center\"><font style=\"color:green\">import</font><font> ipywidgets</font><font style=\"color:green\"> as</font><font> widgets</font><br><font style=\"color:green\">import</font><font> numpy</font><font style=\"color:green\"> as</font><font> np &nbsp &nbsp &nbsp &nbsp &nbsp &nbsp &nbsp </font></p>'))\n",
    "\n"
   ]
  },
  {
   "cell_type": "code",
   "execution_count": null,
   "metadata": {
    "collapsed": true
   },
   "outputs": [],
   "source": []
  },
  {
   "cell_type": "code",
   "execution_count": 34,
   "metadata": {
    "collapsed": false,
    "hideCode": true,
    "hidePrompt": true
   },
   "outputs": [
    {
     "name": "stdout",
     "output_type": "stream",
     "text": [
      "Now we need a function that will return a usable variable. To do this we will use Python's define function (Note that the \n",
      "standard notation for a function begins with a capital letter, unlike a variable. In this function, we will use an input for \n",
      "the variable that we will use to change the way the graph looks:\n"
     ]
    },
    {
     "data": {
      "text/html": [
       "<p style=\"text-align:center\"><font style=\"color:green\">def</font><font style=\"color:blue\"> MyFunction</font><font>(f):</font></p>"
      ],
      "text/plain": [
       "<IPython.core.display.HTML object>"
      ]
     },
     "metadata": {},
     "output_type": "display_data"
    },
    {
     "name": "stdout",
     "output_type": "stream",
     "text": [
      "Then we want to make an equation to give us our y values. The equation below should work well.\n"
     ]
    },
    {
     "data": {
      "text/html": [
       "<p style=\"text-align:center\">$y = \\frac{1}{fx}$</p>"
      ],
      "text/plain": [
       "<IPython.core.display.HTML object>"
      ]
     },
     "metadata": {},
     "output_type": "display_data"
    },
    {
     "name": "stdout",
     "output_type": "stream",
     "text": [
      "To make this work, we will need to have the function define x values and plug them into the equation. The first can be done \n",
      "with the np.arange(x,y,z) function, which will return a list of numbers starting at x, ending at y, and counting by z. We can \n",
      "do the second with a for loop. Write this under MyFunction (should indent automatically):\n"
     ]
    },
    {
     "data": {
      "text/html": [
       "<p style=\"text-align:center\">x=np.arange(-5,5,.01)<br>y=[1/(f*x) for x in x] &nbsp &nbsp</p>"
      ],
      "text/plain": [
       "<IPython.core.display.HTML object>"
      ]
     },
     "metadata": {},
     "output_type": "display_data"
    },
    {
     "name": "stdout",
     "output_type": "stream",
     "text": [
      "Now that we have our data, we can tell the function to graph it, this time we will define fixed axes. Note that the other plt \n",
      "functions you used earlier will still work here if you want to format your graph\n"
     ]
    },
    {
     "data": {
      "text/html": [
       "<p style=\"text-align:center\"><font>plt.axis([-5, 5, -5, 5])</font><br><font>plt.plot(x,y) &nbsp &nbsp &nbsp &nbsp &nbsp &nbsp &nbsp</font><br><font style=\"color:green\">return</font><font> plt.show() &nbsp &nbsp &nbsp</font></p>"
      ],
      "text/plain": [
       "<IPython.core.display.HTML object>"
      ]
     },
     "metadata": {},
     "output_type": "display_data"
    }
   ],
   "source": [
    "print(\"Now we need a function that will return a usable variable. To do this we will use Python's define function (Note that the \\nstandard notation for a function begins with a capital letter, unlike a variable. In this function, we will use an input for \\nthe variable that we will use to change the way the graph looks:\")\n",
    "display(HTML('<p style=\"text-align:center\"><font style=\"color:green\">def</font><font style=\"color:blue\"> MyFunction</font><font>(f):</font></p>'))\n",
    "print(\"Then we want to make an equation to give us our y values. The equation below should work well.\")\n",
    "display(HTML('<p style=\"text-align:center\">$y = \\\\frac{1}{fx}$</p>'))\n",
    "print(\"To make this work, we will need to have the function define x values and plug them into the equation. The first can be done \\nwith the np.arange(x,y,z) function, which will return a list of numbers starting at x, ending at y, and counting by z. We can \\ndo the second with a for loop. Write this under MyFunction (should indent automatically):\")\n",
    "display(HTML('<p style=\"text-align:center\">x=np.arange(-5,5,.01)<br>y=[1/(f*x) for x in x] &nbsp &nbsp</p>'))\n",
    "print(\"Now that we have our data, we can tell the function to graph it, this time we will define fixed axes. Note that the other plt \\nfunctions you used earlier will still work here if you want to format your graph\")\n",
    "display(HTML('<p style=\"text-align:center\"><font>plt.axis([-5, 5, -5, 5])</font><br><font>plt.plot(x,y) &nbsp &nbsp &nbsp &nbsp &nbsp &nbsp &nbsp</font><br><font style=\"color:green\">return</font><font> plt.show() &nbsp &nbsp &nbsp</font></p>'))\n"
   ]
  },
  {
   "cell_type": "code",
   "execution_count": null,
   "metadata": {
    "collapsed": true
   },
   "outputs": [],
   "source": []
  },
  {
   "cell_type": "code",
   "execution_count": 35,
   "metadata": {
    "collapsed": false,
    "hideCode": true,
    "hidePrompt": true
   },
   "outputs": [
    {
     "name": "stdout",
     "output_type": "stream",
     "text": [
      "Run the above cell where you defined MyFunction, and we can move on to the fun part. This is easier than the previous step, and can be done in one line of code. Run it and play around with the slider a bit.\n"
     ]
    },
    {
     "data": {
      "text/html": [
       "<p style=\"text-align:center\">widgets.interactive(MyFunction, f=widgets.IntSlider(description=\"f\",min=1,max=10))</p>"
      ],
      "text/plain": [
       "<IPython.core.display.HTML object>"
      ]
     },
     "metadata": {},
     "output_type": "display_data"
    }
   ],
   "source": [
    "print(\"Run the above cell where you defined MyFunction, and we can move on to the fun part. This is easier than the previous step, and can be done in one line of code. Run it and play around with the slider a bit.\")\n",
    "display(HTML('<p style=\"text-align:center\">widgets.interactive(MyFunction, f=widgets.IntSlider(description=\"f\",min=1,max=10))</p>'))    "
   ]
  },
  {
   "cell_type": "code",
   "execution_count": null,
   "metadata": {
    "collapsed": false,
    "hideCode": false
   },
   "outputs": [],
   "source": []
  },
  {
   "cell_type": "code",
   "execution_count": 36,
   "metadata": {
    "collapsed": false,
    "hideCode": true,
    "hidePrompt": true
   },
   "outputs": [
    {
     "data": {
      "text/html": [
       "<p style=\"font-size:400%; text-align:center; line-height:70px; color:darkorange\">How This is Useful</p>"
      ],
      "text/plain": [
       "<IPython.core.display.HTML object>"
      ]
     },
     "metadata": {},
     "output_type": "display_data"
    },
    {
     "name": "stdout",
     "output_type": "stream",
     "text": [
      "In Physics, we needed to hit a target with a rocket. Here is a program I wrote to make sure my team won:\n"
     ]
    }
   ],
   "source": [
    "display(HTML('<p style=\"font-size:400%; text-align:center; line-height:70px; color:darkorange\">How This is Useful</p>'))\n",
    "print(\"In Physics, we needed to hit a target with a rocket. Here is a program I wrote to make sure my team won:\")\n",
    "\n",
    "import math as m\n",
    "import ipywidgets as widgets\n",
    "import numpy as np \n",
    "import matplotlib.pyplot as plt\n",
    "%matplotlib inline  \n",
    "\n",
    "def RocketPlot(rocket_angle, rocket_velocity, target_distance):\n",
    "    rocket_angle = m.radians(rocket_angle)\n",
    "    \n",
    "    time_airborne = 2*rocket_velocity*m.sin(rocket_angle)/9.81\n",
    "    pathTime = np.linspace(0,time_airborne)    \n",
    "        \n",
    "    rocket_velocity_x = rocket_velocity*m.cos(rocket_angle)\n",
    "    rocket_velocity_y = rocket_velocity*m.sin(rocket_angle)\n",
    "        \n",
    "    #x_max = rocket_velocity_x*time_airborne     \n",
    "    #y_max = rocket_velocity_y*(.5*time_airborne)-.5*9.81*(.5*time_airborne)**2\n",
    "\n",
    "    x = [rocket_velocity_x*t for t in pathTime]\n",
    "    y = [rocket_velocity_y*t-.5*9.81*t**2 for t in pathTime]\n",
    "\n",
    "    plt.figure(1, figsize=[10,5])\n",
    "    plt.plot(x,y)\n",
    "    plt.axis([0,100,0,50])\n",
    "    plt.autoscale(False)\n",
    "    plt.xlabel('Horizontal Displacement (m)')\n",
    "    plt.ylabel('Vertical Displacement (m)')\n",
    "    plt.title('Path of Rocket Based on Angle and Initial Velocity')\n",
    "        \n",
    "    target_y = 10+1.22\n",
    "    plt.plot([target_distance,target_distance],[target_y,target_y-1.22],linewidth=3,color='r')\n",
    "    return plt.show()"
   ]
  },
  {
   "cell_type": "code",
   "execution_count": 37,
   "metadata": {
    "collapsed": false,
    "hideCode": true,
    "hidePrompt": true
   },
   "outputs": [
    {
     "data": {
      "image/png": "[encoded data removed]",
      "text/plain": [
       "<matplotlib.figure.Figure at 0x1a4901cb588>"
      ]
     },
     "metadata": {},
     "output_type": "display_data"
    }
   ],
   "source": [
    "widgets.interactive(RocketPlot, rocket_angle=widgets.IntSlider(description='Rocket Angle',min=0,max=90), rocket_velocity=widgets.IntSlider(description='Rocket Velocity',min=0,max=30), target_distance=widgets.IntSlider(description='Target Distance',min=0,max=100))    "
   ]
  },
  {
   "cell_type": "code",
   "execution_count": 38,
   "metadata": {
    "collapsed": false,
    "hideCode": true,
    "hidePrompt": true
   },
   "outputs": [
    {
     "data": {
      "text/html": [
       "<p style=\"font-size:400%; text-align:center; line-height:70px; color:darkorange\">Now You Are Wise</p><br><img src=\"https://media.giphy.com/media/o7oGPYWTS4LGU/giphy.gif\" width=100%>"
      ],
      "text/plain": [
       "<IPython.core.display.HTML object>"
      ]
     },
     "metadata": {},
     "output_type": "display_data"
    }
   ],
   "source": [
    "display(HTML('<p style=\"font-size:400%; text-align:center; line-height:70px; color:darkorange\">Now You Are Wise</p><br><img src=\"https://media.giphy.com/media/o7oGPYWTS4LGU/giphy.gif\" width=100%>'))"
   ]
  }
 ],
 "metadata": {
  "anaconda-cloud": {},
  "kernelspec": {
   "display_name": "Python [conda root]",
   "language": "python",
   "name": "conda-root-py"
  },
  "language_info": {
   "codemirror_mode": {
    "name": "ipython",
    "version": 3
   },
   "file_extension": ".py",
   "mimetype": "text/x-python",
   "name": "python",
   "nbconvert_exporter": "python",
   "pygments_lexer": "ipython3",
   "version": "3.5.2"
  },
  "widgets": {
   "state": {
    "1070d3ae0889471ba15797a8f8ca291a": {
     "views": [
      {
       "cell_index": 23
      }
     ]
    }
   },
   "version": "1.2.0"
  }
 },
 "nbformat": 4,
 "nbformat_minor": 1
}
